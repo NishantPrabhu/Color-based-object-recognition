{
 "cells": [
  {
   "cell_type": "markdown",
   "metadata": {},
   "source": [
    "# Performing PCA on colorspace \n",
    "Let's see if PCA can capture the color information we need."
   ]
  },
  {
   "cell_type": "code",
   "execution_count": 24,
   "metadata": {},
   "outputs": [],
   "source": [
    "import os\n",
    "import cv2\n",
    "import pickle\n",
    "import numpy as np\n",
    "from tqdm.notebook import tqdm\n",
    "from imutils import resize\n",
    "from matplotlib import pyplot as plt\n",
    "from sklearn.decomposition import PCA"
   ]
  },
  {
   "cell_type": "code",
   "execution_count": 9,
   "metadata": {},
   "outputs": [],
   "source": [
    "# Image paths\n",
    "test_path = '../../data/test_images/test_image_1.jpeg'\n",
    "path_1 = '../../data/Biscuits/400018.jpg'\n",
    "path_2 = '../../data/DentalCare/100004.jpg'\n",
    "\n",
    "test_img = cv2.imread(test_path, 0)\n",
    "img_1 = cv2.imread(path_1, 0)\n",
    "img_2 = cv2.imread(path_2, 0)\n",
    "\n",
    "img_1 = resize(img_1, width=960)\n",
    "img_2 = resize(img_2, width=960)"
   ]
  },
  {
   "cell_type": "code",
   "execution_count": 15,
   "metadata": {},
   "outputs": [],
   "source": [
    "pca = PCA(n_components=30)\n",
    "test_img_pca = pca.fit_transform(test_img)\n",
    "img_1_pca = pca.fit_transform(img_1)\n",
    "img_2_pca = pca.fit_transform(img_2)\n",
    "\n",
    "test_img_pca = test_img_pca/np.linalg.norm(test_img_pca)\n",
    "img_1_pca = img_1_pca/np.linalg.norm(img_1_pca)\n",
    "img_2_pca = img_2_pca/np.linalg.norm(img_2_pca)"
   ]
  },
  {
   "cell_type": "code",
   "execution_count": 22,
   "metadata": {},
   "outputs": [],
   "source": [
    "with open('../../saved_data/25 Jun/all_paths.pkl', 'rb') as f:\n",
    "    all_paths = pickle.load(f)"
   ]
  },
  {
   "cell_type": "code",
   "execution_count": 28,
   "metadata": {},
   "outputs": [],
   "source": [
    "dist_dict = {}\n",
    "\n",
    "for path in tqdm(all_paths):\n",
    "    img = cv2.imread(path, 0)\n",
    "    img = resize(img, height=960)\n",
    "    img_pca = pca.fit_transform(img)\n",
    "    dist = np.linalg.norm(test_img_pca - img_pca)\n",
    "    dist_dict.update({path: dist})\n",
    "    \n",
    "sorted_paths = sorted(list(dist_dict.keys()), key=lambda x: dist_dict[x])\n",
    "sorted_imgs = [cv2.imread(p, 0) for p in sorted_paths[:5]]\n",
    "\n",
    "plt.imshow(test_img, cmap='gray')\n",
    "plt.show()\n",
    "\n",
    "print(\"\\nMatched images ...\")\n",
    "fig = plt.figure()\n",
    "for i in range(5):\n",
    "    fig.add_subplot(1, 5, i+1)\n",
    "    plt.imshow(sorted_imgs[i], cmap='gray')\n",
    "plt.tight_layout()\n",
    "plt.show()"
   ]
  },
  {
   "cell_type": "code",
   "execution_count": null,
   "metadata": {},
   "outputs": [],
   "source": []
  }
 ],
 "metadata": {
  "kernelspec": {
   "display_name": "Python 3",
   "language": "python",
   "name": "python3"
  },
  "language_info": {
   "codemirror_mode": {
    "name": "ipython",
    "version": 3
   },
   "file_extension": ".py",
   "mimetype": "text/x-python",
   "name": "python",
   "nbconvert_exporter": "python",
   "pygments_lexer": "ipython3",
   "version": "3.6.9"
  }
 },
 "nbformat": 4,
 "nbformat_minor": 2
}
