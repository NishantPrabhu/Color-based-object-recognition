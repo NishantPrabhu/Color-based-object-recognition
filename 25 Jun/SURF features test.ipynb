{
 "cells": [
  {
   "cell_type": "markdown",
   "metadata": {},
   "source": [
    "# SURF features test\n",
    "Create surf features for all images in repository and perform matching to see how good the features are."
   ]
  },
  {
   "cell_type": "code",
   "execution_count": 14,
   "metadata": {},
   "outputs": [],
   "source": [
    "import cv2\n",
    "import os\n",
    "import pickle\n",
    "import numpy as np \n",
    "from tqdm.notebook import tqdm\n",
    "from matplotlib import pyplot as plt "
   ]
  },
  {
   "cell_type": "code",
   "execution_count": 12,
   "metadata": {},
   "outputs": [],
   "source": [
    "# Extract all image paths into a list\n",
    "\n",
    "all_paths = []\n",
    "folders = os.listdir('../../data')\n",
    "folders.remove('test_images')\n",
    "for fol in folders:\n",
    "    files = os.listdir('../../data/'+fol)\n",
    "    paths = ['../../data/'+fol+'/'+f for f in files]\n",
    "    all_paths.extend(paths)"
   ]
  },
  {
   "cell_type": "code",
   "execution_count": 15,
   "metadata": {},
   "outputs": [
    {
     "name": "stdout",
     "output_type": "stream",
     "text": [
      "CPU times: user 7 µs, sys: 1 µs, total: 8 µs\n",
      "Wall time: 14.3 µs\n"
     ]
    },
    {
     "data": {
      "application/vnd.jupyter.widget-view+json": {
       "model_id": "dd625e9843d644369a1bf8075993036d",
       "version_major": 2,
       "version_minor": 0
      },
      "text/plain": [
       "HBox(children=(IntProgress(value=0, max=5146), HTML(value='')))"
      ]
     },
     "metadata": {},
     "output_type": "display_data"
    },
    {
     "name": "stdout",
     "output_type": "stream",
     "text": [
      "\n"
     ]
    }
   ],
   "source": [
    "# Extract surf features for each image and store in a dictionary\n",
    "# Store this dictionary\n",
    "\n",
    "file_surf_dict = {}\n",
    "surf = cv2.xfeatures2d.SURF_create()\n",
    "\n",
    "%time\n",
    "for path in tqdm(all_paths):\n",
    "    img = cv2.imread(path, 0)\n",
    "    _, desc = surf.detectAndCompute(img, None)\n",
    "    file_surf_dict.update({path: desc})\n",
    "    \n",
    "# Store the dictionary and all_paths\n",
    "with open('../../saved_data/25 Jun/all_paths.pkl', 'wb') as f:\n",
    "    pickle.dump(all_paths, f)\n",
    "    \n",
    "with open('../../saved_data/25 Jun/file_surf_dict.pkl', 'wb') as f:\n",
    "    pickle.dump(file_surf_dict, f)"
   ]
  },
  {
   "cell_type": "code",
   "execution_count": 16,
   "metadata": {},
   "outputs": [
    {
     "data": {
      "application/vnd.jupyter.widget-view+json": {
       "model_id": "199ce84da542414cbc9cf4bec806540f",
       "version_major": 2,
       "version_minor": 0
      },
      "text/plain": [
       "HBox(children=(IntProgress(value=0, max=5146), HTML(value='')))"
      ]
     },
     "metadata": {},
     "output_type": "display_data"
    },
    {
     "name": "stdout",
     "output_type": "stream",
     "text": [
      "\n",
      "['../../data/Biscuits/400441.jpeg', '../../data/HairCare/300368.jpg', '../../data/Soaps/200397.jpg', '../../data/Soaps/200240.jpg', '../../data/DentalCare/200477.jpg']\n"
     ]
    }
   ],
   "source": [
    "# Find match for the test image\n",
    "test_path = '../../data/test_images/test_image_1.jpeg'\n",
    "test_img = cv2.imread(test_path, 0)\n",
    "_, desc_test = surf.detectAndCompute(test_img, None)\n",
    "\n",
    "matcher = cv2.BFMatcher(cv2.NORM_L2, crossCheck=False)\n",
    "file_good_dict = {}\n",
    "\n",
    "for path in tqdm(file_surf_dict.keys()):\n",
    "    matches = matcher.knnMatch(desc_test, file_surf_dict[path], k=2)\n",
    "    good = sum([1 for m, n in matches if m.distance < 0.7 * n.distance])\n",
    "    file_good_dict.update({path: good})\n",
    "    \n",
    "sorted_paths = sorted(list(file_good_dict.keys()), key=lambda x: file_good_dict[x])\n",
    "print(sorted_paths[-5:])"
   ]
  },
  {
   "cell_type": "code",
   "execution_count": null,
   "metadata": {},
   "outputs": [],
   "source": []
  }
 ],
 "metadata": {
  "kernelspec": {
   "display_name": "Python 3",
   "language": "python",
   "name": "python3"
  },
  "language_info": {
   "codemirror_mode": {
    "name": "ipython",
    "version": 3
   },
   "file_extension": ".py",
   "mimetype": "text/x-python",
   "name": "python",
   "nbconvert_exporter": "python",
   "pygments_lexer": "ipython3",
   "version": "3.6.9"
  }
 },
 "nbformat": 4,
 "nbformat_minor": 2
}
