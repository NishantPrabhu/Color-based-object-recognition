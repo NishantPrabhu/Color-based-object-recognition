{
 "cells": [
  {
   "cell_type": "markdown",
   "metadata": {},
   "source": [
    "# HSV features test\n",
    "Let's see."
   ]
  },
  {
   "cell_type": "code",
   "execution_count": 1,
   "metadata": {},
   "outputs": [],
   "source": [
    "import os\n",
    "import cv2\n",
    "import pickle\n",
    "import numpy as np\n",
    "from tqdm.notebook import tqdm\n",
    "from ntpath import basename\n",
    "from sklearn.cluster import MiniBatchKMeans\n",
    "from skimage.color import rgb2lab, deltaE_cie76\n",
    "from warnings import filterwarnings\n",
    "filterwarnings(action='ignore')"
   ]
  },
  {
   "cell_type": "code",
   "execution_count": 3,
   "metadata": {},
   "outputs": [],
   "source": [
    "# Function to create color_ratio dict\n",
    "def get_color_ratio(img_path):\n",
    "\n",
    "    img = cv2.imread(img_path)\n",
    "    img = cv2.cvtColor(img, cv2.COLOR_BGR2RGB)\n",
    "    x = img.reshape(img.shape[0]*img.shape[1], -1)\n",
    "    kmeans = MiniBatchKMeans(n_clusters=5)\n",
    "    kmeans.fit(x)\n",
    "    centers, labels = kmeans.cluster_centers_, np.asarray(kmeans.labels_)\n",
    "\n",
    "    color_ratio = {}\n",
    "    for i, (c, l) in enumerate(zip(centers, np.unique(labels))):\n",
    "        ratio = len(np.where(labels == l)[0])/len(labels)\n",
    "        color_ratio.update({i: (c, ratio)})\n",
    "\n",
    "    return color_ratio\n",
    "\n",
    "\n",
    "# Color matching function\n",
    "def match_color(color_1, ratio_1, color_2, ratio_2, thresh=60):\n",
    "\n",
    "    try:\n",
    "        color_1 = color_1.tolist()\n",
    "        color_2 = color_2.tolist()\n",
    "    except:\n",
    "        raise ValueError(\"Bad format for color; provide as numpy arrays\")\n",
    "\n",
    "    color_1 = rgb2lab(np.uint8(np.asarray([[color_1]])))\n",
    "    color_2 = rgb2lab(np.uint8(np.asarray([[color_2]])))\n",
    "    diff = deltaE_cie76(color_1, color_2)\n",
    "\n",
    "    if diff < thresh:\n",
    "        if min(ratio_1, ratio_2)/max(ratio_1, ratio_2) > 0.7:\n",
    "            return 1\n",
    "\n",
    "    return 0\n",
    "\n",
    "\n",
    "# Image matching function\n",
    "def match_image_color_dict(color_dict_1, color_dict_2):\n",
    "    matches = 0\n",
    "    for i, (c_1, r_1) in color_dict_1.items():\n",
    "        for i, (c_2, r_2) in color_dict_2.items():\n",
    "            matches += match_color(c_1, r_1, c_2, r_2, thresh=60)\n",
    "\n",
    "    return matches"
   ]
  },
  {
   "cell_type": "code",
   "execution_count": 8,
   "metadata": {},
   "outputs": [
    {
     "data": {
      "application/vnd.jupyter.widget-view+json": {
       "model_id": "9fb9193744f842aa9315984a5e410d1c",
       "version_major": 2,
       "version_minor": 0
      },
      "text/plain": [
       "HBox(children=(IntProgress(value=0, description='Progress', style=ProgressStyle(description_width='initial')),…"
      ]
     },
     "metadata": {},
     "output_type": "display_data"
    },
    {
     "data": {
      "application/vnd.jupyter.widget-view+json": {
       "model_id": "f520a4813a9146c4a46dbd22d5269910",
       "version_major": 2,
       "version_minor": 0
      },
      "text/plain": [
       "HBox(children=(IntProgress(value=1, bar_style='info', max=1), HTML(value='')))"
      ]
     },
     "metadata": {},
     "output_type": "display_data"
    },
    {
     "data": {
      "application/vnd.jupyter.widget-view+json": {
       "model_id": "323f4ed1e0b649c99c6ce8e5310e1cd2",
       "version_major": 2,
       "version_minor": 0
      },
      "text/plain": [
       "HBox(children=(IntProgress(value=1, bar_style='info', max=1), HTML(value='')))"
      ]
     },
     "metadata": {},
     "output_type": "display_data"
    },
    {
     "name": "stdout",
     "output_type": "stream",
     "text": [
      "\n",
      "\n",
      "\n",
      "\n",
      "\n",
      "\n",
      "Final accuracy: 6.00%\n",
      "Final top 3 accuracy: 10.00%\n"
     ]
    }
   ],
   "source": [
    "# Extract all paths to a list\n",
    "folders = os.listdir(\"../../data\")\n",
    "folders.remove(\"test_images\")\n",
    "all_paths = []\n",
    "\n",
    "for fol in folders:\n",
    "    files = os.listdir(\"../../data/\"+fol)\n",
    "    paths = [\"../../data/\"+fol+\"/\"+f for f in files]\n",
    "    all_paths.extend(paths)\n",
    "\n",
    "# Using fewer paths for testing\n",
    "all_paths = all_paths[:2000]\n",
    "\n",
    "# Read each image, compute color ratios and store values in dict\n",
    "\n",
    "with open(\"../../saved_data/25 Jun/file_color_dict.pkl\", \"rb\") as f:\n",
    "    file_color_dict = pickle.load(f)\n",
    "\n",
    "# Evaluate the model\n",
    "correct, correct3 = 0, 0\n",
    "\n",
    "# Randomly sampling 100 paths because this takes too long\n",
    "chosen_paths = np.random.choice(np.arange(0, len(all_paths)), size=100, replace=False)\n",
    "progress = tqdm(total=len(chosen_paths), position=0, desc='Progress')\n",
    "acc_status = tqdm(total=0, position=1, bar_format='{desc}')\n",
    "acc3_status = tqdm(total=0, position=2, bar_format='{desc}')\n",
    "\n",
    "for i, trg_path in enumerate(np.array(all_paths)[chosen_paths]):\n",
    "\n",
    "    scores = {}\n",
    "    trg_color_dict = get_color_ratio(trg_path)\n",
    "\n",
    "    for path, color_dict in file_color_dict.items():\n",
    "        matches = match_image_color_dict(trg_color_dict, color_dict)\n",
    "        scores.update({path: matches})\n",
    "\n",
    "    sorted_paths = sorted(list(scores.keys()), key=lambda x: scores[x], reverse=True)\n",
    "\n",
    "    if basename(trg_path) == basename(sorted_paths[0]):\n",
    "        correct += 1\n",
    "\n",
    "    if basename(trg_path) in [basename(p) for p in sorted_paths[:3]]:\n",
    "        correct3 += 1\n",
    "\n",
    "    progress.update(1)\n",
    "\n",
    "    if i % 10 == 0:\n",
    "        acc_status.set_description_str(\"Accuracy: {}/{}\".format(\n",
    "            correct, i+1\n",
    "        ))\n",
    "        acc3_status.set_description_str(\"Top 3 accuracy: {}/{}\".format(\n",
    "            correct3, i+1\n",
    "        ))\n",
    "\n",
    "\n",
    "# Final accuracy after everything is done\n",
    "print(\"\\n\\n\\n\\n\\n\")\n",
    "print(\"Final accuracy: {:.2f}%\".format(100. * correct / len(chosen_paths)))\n",
    "print(\"Final top 3 accuracy: {:.2f}%\".format(100. * correct3 / len(chosen_paths)))"
   ]
  },
  {
   "cell_type": "code",
   "execution_count": null,
   "metadata": {},
   "outputs": [],
   "source": []
  }
 ],
 "metadata": {
  "kernelspec": {
   "display_name": "Python 3",
   "language": "python",
   "name": "python3"
  },
  "language_info": {
   "codemirror_mode": {
    "name": "ipython",
    "version": 3
   },
   "file_extension": ".py",
   "mimetype": "text/x-python",
   "name": "python",
   "nbconvert_exporter": "python",
   "pygments_lexer": "ipython3",
   "version": "3.6.9"
  }
 },
 "nbformat": 4,
 "nbformat_minor": 2
}
