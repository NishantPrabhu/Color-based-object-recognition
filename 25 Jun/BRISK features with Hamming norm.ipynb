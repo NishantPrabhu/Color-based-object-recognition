{
 "cells": [
  {
   "cell_type": "markdown",
   "metadata": {},
   "source": [
    "# SURF features with hamming norm\n",
    "Let's see if this works for us. I'm tired at this point."
   ]
  },
  {
   "cell_type": "code",
   "execution_count": 1,
   "metadata": {},
   "outputs": [],
   "source": [
    "import os\n",
    "import cv2\n",
    "import numpy as np"
   ]
  },
  {
   "cell_type": "code",
   "execution_count": 2,
   "metadata": {},
   "outputs": [],
   "source": [
    "# Image paths\n",
    "test_path = '../../data/test_images/test_image_1.jpeg'\n",
    "path_1 = '../../data/Biscuits/400018.jpg'\n",
    "path_2 = '../../data/DentalCare/100004.jpg'\n",
    "\n",
    "test_img = cv2.imread(test_path, 0)\n",
    "img_1 = cv2.imread(path_1, 0)\n",
    "img_2 = cv2.imread(path_2, 0)"
   ]
  },
  {
   "cell_type": "code",
   "execution_count": 29,
   "metadata": {},
   "outputs": [
    {
     "name": "stdout",
     "output_type": "stream",
     "text": [
      "CPU times: user 9 µs, sys: 0 ns, total: 9 µs\n",
      "Wall time: 18.1 µs\n"
     ]
    }
   ],
   "source": [
    "# BRISK descriptors\n",
    "brisk = cv2.xfeatures2d.SURF_create()\n",
    "\n",
    "%time\n",
    "_, desc_test = brisk.detectAndCompute(test_img, None)\n",
    "_, desc_1 = brisk.detectAndCompute(img_1, None)\n",
    "_, desc_2 = brisk.detectAndCompute(img_2, None)"
   ]
  },
  {
   "cell_type": "code",
   "execution_count": 30,
   "metadata": {},
   "outputs": [
    {
     "name": "stdout",
     "output_type": "stream",
     "text": [
      "CPU times: user 7 µs, sys: 1e+03 ns, total: 8 µs\n",
      "Wall time: 13.4 µs\n"
     ]
    }
   ],
   "source": [
    "# Matching\n",
    "matcher = cv2.BFMatcher(cv2.NORM_L2, crossCheck=False)\n",
    "\n",
    "%time\n",
    "match_1 = matcher.knnMatch(desc_test, desc_1, k=2)\n",
    "match_2 = matcher.knnMatch(desc_test, desc_2, k=2)\n",
    "\n",
    "good_1 = sum([1 for m, n in match_1 if m.distance < 0.7 * n.distance])\n",
    "good_2 = sum([1 for m, n in match_2 if m.distance < 0.7 * n.distance])"
   ]
  },
  {
   "cell_type": "code",
   "execution_count": null,
   "metadata": {},
   "outputs": [],
   "source": []
  }
 ],
 "metadata": {
  "kernelspec": {
   "display_name": "Python 3",
   "language": "python",
   "name": "python3"
  },
  "language_info": {
   "codemirror_mode": {
    "name": "ipython",
    "version": 3
   },
   "file_extension": ".py",
   "mimetype": "text/x-python",
   "name": "python",
   "nbconvert_exporter": "python",
   "pygments_lexer": "ipython3",
   "version": "3.6.9"
  }
 },
 "nbformat": 4,
 "nbformat_minor": 2
}
