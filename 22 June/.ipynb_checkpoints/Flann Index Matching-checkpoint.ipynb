{
 "cells": [
  {
   "cell_type": "markdown",
   "metadata": {},
   "source": [
    "# Flann Index Matching \n",
    "We'll used SIFT, VGG and BRISK features."
   ]
  },
  {
   "cell_type": "code",
   "execution_count": 17,
   "metadata": {},
   "outputs": [],
   "source": [
    "import cv2\n",
    "import os\n",
    "from glob import glob\n",
    "from tqdm.notebook import tqdm\n",
    "import numpy as np\n",
    "import matplotlib.pyplot as plt"
   ]
  },
  {
   "cell_type": "code",
   "execution_count": 8,
   "metadata": {},
   "outputs": [],
   "source": [
    "# Image paths\n",
    "test_path = '../../data/test_images/test_image_1.jpeg'\n",
    "path_1 = '../../data/Biscuits/400018.jpg'\n",
    "path_2 = '../../data/DentalCare/100004.jpg'\n",
    "\n",
    "test_img = cv2.imread(test_path, 0)\n",
    "img_1 = cv2.imread(path_1, 0)\n",
    "img_2 = cv2.imread(path_2, 0)"
   ]
  },
  {
   "cell_type": "code",
   "execution_count": 9,
   "metadata": {},
   "outputs": [],
   "source": [
    "# SIFT features\n",
    "sift = cv2.xfeatures2d.SIFT_create()\n",
    "kp1, desc_1 = sift.detectAndCompute(img_1, None)\n",
    "kp2, desc_2 = sift.detectAndCompute(img_2, None)\n",
    "kp_test, desc_test = sift.detectAndCompute(test_img, None)"
   ]
  },
  {
   "cell_type": "code",
   "execution_count": 10,
   "metadata": {},
   "outputs": [],
   "source": [
    "# Flann matcher\n",
    "FLANN_INDEX_KDTREE = 0\n",
    "index_params = dict(algorithm=FLANN_INDEX_KDTREE, trees=5)\n",
    "search_params = dict(checks=50)\n",
    "\n",
    "flann = cv2.FlannBasedMatcher(index_params, search_params)\n",
    "matches_1 = flann.knnMatch(desc_1, desc_test, k=2)\n",
    "matches_2 = flann.knnMatch(desc_2, desc_test, k=2)"
   ]
  },
  {
   "cell_type": "code",
   "execution_count": 11,
   "metadata": {},
   "outputs": [],
   "source": [
    "good_1 = []\n",
    "for m, n in matches_1:\n",
    "    if m.distance < 0.7*n.distance:\n",
    "        good_1.append(m)\n",
    "        \n",
    "good_2 = []\n",
    "for m, n in matches_2:\n",
    "    if m.distance < 0.7*n.distance:\n",
    "        good_2.append(m)"
   ]
  },
  {
   "cell_type": "markdown",
   "metadata": {},
   "source": [
    "## Trying for all images\n",
    "Works fine for the two we chose. Let's see if it does fine overall."
   ]
  },
  {
   "cell_type": "code",
   "execution_count": 14,
   "metadata": {},
   "outputs": [],
   "source": [
    "# Sift features\n",
    "sift = cv2.xfeatures2d.SIFT_create()\n",
    "\n",
    "# Flann based matcher\n",
    "FLANN_INDEX_KDTREE = 0\n",
    "index_params = dict(algorithm=FLANN_INDEX_KDTREE, trees=5)\n",
    "search_params = dict(checks=50)\n",
    "flann = cv2.FlannBasedMatcher(index_params, search_params)"
   ]
  },
  {
   "cell_type": "code",
   "execution_count": 18,
   "metadata": {},
   "outputs": [],
   "source": [
    "# Load test image\n",
    "test_path = '../../data/test_images/test_image_1.jpeg'\n",
    "test_img = cv2.imread(test_path, 0)\n",
    "\n",
    "_, desc_test = sift.detectAndCompute(test_img, None)"
   ]
  },
  {
   "cell_type": "code",
   "execution_count": null,
   "metadata": {},
   "outputs": [
    {
     "data": {
      "application/vnd.jupyter.widget-view+json": {
       "model_id": "60308ecbd21c480689421041a9740e42",
       "version_major": 2,
       "version_minor": 0
      },
      "text/plain": [
       "HBox(children=(IntProgress(value=0, max=12), HTML(value='')))"
      ]
     },
     "metadata": {},
     "output_type": "display_data"
    }
   ],
   "source": [
    "# Run over every image and find matches\n",
    "file_match_dict = {}\n",
    "\n",
    "for folder in tqdm(os.listdir('../../data')):\n",
    "    for path in glob('../../data/'+folder+'/*.jpg'):\n",
    "        img = cv2.imread(path, 0)\n",
    "        _, desc = sift.detectAndCompute(img, None)\n",
    "        # Matching\n",
    "        matches = flann.knnMatch(desc, desc_test, k=2)\n",
    "        # Good matches a/o Lowe's ratio test\n",
    "        good = 0\n",
    "        for m, n in matches:\n",
    "            if m.distance < 0.7*n.distance:\n",
    "                good += 1\n",
    "        # Update dict\n",
    "        file_match_dict.update({path: good})\n",
    "        \n",
    "# Find image with maximum matches\n",
    "paths = list(file_match_dict.keys())\n",
    "win_path = sorted(paths, key=lambda x: file_match_dict[x])[-1]\n",
    "win_img = cv2.imread(win_path, 0)\n",
    "\n",
    "# Show input and chosen image\n",
    "fig = plt.figure()\n",
    "fig.add_subplot(121)\n",
    "plt.imshow(test_img, cmap='gray')\n",
    "fig.add_subplot(122)\n",
    "plt.imshow(win_img, cmap='gray')\n",
    "plt.tight_layout()\n",
    "plt.show()"
   ]
  },
  {
   "cell_type": "code",
   "execution_count": null,
   "metadata": {},
   "outputs": [],
   "source": []
  }
 ],
 "metadata": {
  "kernelspec": {
   "display_name": "Python 3",
   "language": "python",
   "name": "python3"
  },
  "language_info": {
   "codemirror_mode": {
    "name": "ipython",
    "version": 3
   },
   "file_extension": ".py",
   "mimetype": "text/x-python",
   "name": "python",
   "nbconvert_exporter": "python",
   "pygments_lexer": "ipython3",
   "version": "3.6.9"
  }
 },
 "nbformat": 4,
 "nbformat_minor": 2
}
