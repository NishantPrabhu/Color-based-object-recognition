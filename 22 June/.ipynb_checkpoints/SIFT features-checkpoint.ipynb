{
 "cells": [
  {
   "cell_type": "markdown",
   "metadata": {},
   "source": [
    "# SIFT features\n",
    "A small experiment on how SIFT feature work for us. If it's any good, I'll think about incorporating with the others."
   ]
  },
  {
   "cell_type": "code",
   "execution_count": 44,
   "metadata": {},
   "outputs": [],
   "source": [
    "import os\n",
    "import cv2\n",
    "import numpy as np\n",
    "from glob import glob\n",
    "from tqdm.notebook import tqdm\n",
    "from scipy.spatial.distance import cosine\n",
    "import matplotlib.pyplot as plt"
   ]
  },
  {
   "cell_type": "code",
   "execution_count": 2,
   "metadata": {},
   "outputs": [],
   "source": [
    "root_dir = '../../data'\n",
    "folder = os.listdir(root_dir)[0]\n",
    "path = glob(root_dir+'/'+folder+'/*.jpg')[0]"
   ]
  },
  {
   "cell_type": "code",
   "execution_count": 23,
   "metadata": {},
   "outputs": [],
   "source": [
    "img = cv2.imread(path)\n",
    "img = cv2.cvtColor(img, cv2.COLOR_BGR2GRAY)\n",
    "\n",
    "blur = cv2.GaussianBlur(img, (5, 5), 0.1)"
   ]
  },
  {
   "cell_type": "code",
   "execution_count": 24,
   "metadata": {},
   "outputs": [],
   "source": [
    "# SIFT object\n",
    "sift = cv2.xfeatures2d.SIFT_create()\n",
    "\n",
    "kp_1, desc_1 = sift.detectAndCompute(img, None)\n",
    "kp_2, desc_2 = sift.detectAndCompute(blur, None)"
   ]
  },
  {
   "cell_type": "code",
   "execution_count": 25,
   "metadata": {},
   "outputs": [],
   "source": [
    "# Matching object\n",
    "bf = cv2.BFMatcher(cv2.NORM_L1, crossCheck=True)\n",
    "matches = bf.match(desc_1, desc_2)"
   ]
  },
  {
   "cell_type": "code",
   "execution_count": 26,
   "metadata": {},
   "outputs": [],
   "source": [
    "matches = sorted(matches, key=lambda x: x.distance)"
   ]
  },
  {
   "cell_type": "code",
   "execution_count": 27,
   "metadata": {},
   "outputs": [],
   "source": [
    "distances = [x.distance for x in matches]"
   ]
  },
  {
   "cell_type": "markdown",
   "metadata": {},
   "source": [
    "# SIFT on test images\n",
    "Parle G FTW"
   ]
  },
  {
   "cell_type": "code",
   "execution_count": 32,
   "metadata": {},
   "outputs": [],
   "source": [
    "test_path = '../../data/test_images/test_image_1.jpeg'\n",
    "folders = os.listdir('../../data')\n",
    "folders.remove('test_images')"
   ]
  },
  {
   "cell_type": "code",
   "execution_count": null,
   "metadata": {},
   "outputs": [
    {
     "data": {
      "application/vnd.jupyter.widget-view+json": {
       "model_id": "a5122204ca554b21b92361e5be06eb7f",
       "version_major": 2,
       "version_minor": 0
      },
      "text/plain": [
       "HBox(children=(IntProgress(value=0, max=11), HTML(value='')))"
      ]
     },
     "metadata": {},
     "output_type": "display_data"
    }
   ],
   "source": [
    "# Generate features for test image\n",
    "sift = cv2.xfeatures2d.SIFT_create()\n",
    "test_img = cv2.imread(path)\n",
    "test_img = cv2.cvtColor(test_img, cv2.COLOR_BGR2GRAY)\n",
    "_, test_desc = sift.detectAndCompute(test_img, None)\n",
    "test_desc = test_desc.reshape(-1,)\n",
    "\n",
    "# Generate bruteforce matcher\n",
    "bf = cv2.BFMatcher(cv2.NORM_L1, crossCheck=True)\n",
    "\n",
    "# Generate features for other images and match\n",
    "min_dist = 1e06\n",
    "min_path = '' \n",
    "for folder in tqdm(folders):\n",
    "    for path in glob('../../data/'+folder+'/*.jpg'):\n",
    "        img = cv2.imread(path)\n",
    "        img = cv2.cvtColor(img, cv2.COLOR_BGR2GRAY)\n",
    "        _, desc = sift.detectAndCompute(img, None)\n",
    "        desc = desc.reshape(-1,)\n",
    "        \n",
    "        if len(desc) > len(test_desc):\n",
    "            desc = desc[:len(test_desc)]\n",
    "        else:\n",
    "            desc = np.array(desc.tolist() + [0]*(len(test_desc)-len(desc)))\n",
    "        \n",
    "        cos_dist = cosine(test_desc, desc)\n",
    "        if cos_dist < min_dist:\n",
    "            min_dist = cos_dist\n",
    "            min_path = path\n",
    "            \n",
    "min_image = cv2.imread(min_path)\n",
    "min_image = cv2.cvtColor(min_image, cv2.COLOR_BGR2GRAY)\n",
    "            \n",
    "# Show image and matched image\n",
    "print(\"Target image ...\")\n",
    "plt.imshow(test_img)\n",
    "plt.show()\n",
    "print(\"\\nMatched image ...\")\n",
    "plt.imshow(min_image)\n",
    "plt.show()"
   ]
  },
  {
   "cell_type": "code",
   "execution_count": null,
   "metadata": {},
   "outputs": [],
   "source": []
  }
 ],
 "metadata": {
  "kernelspec": {
   "display_name": "Python 3",
   "language": "python",
   "name": "python3"
  },
  "language_info": {
   "codemirror_mode": {
    "name": "ipython",
    "version": 3
   },
   "file_extension": ".py",
   "mimetype": "text/x-python",
   "name": "python",
   "nbconvert_exporter": "python",
   "pygments_lexer": "ipython3",
   "version": "3.6.9"
  }
 },
 "nbformat": 4,
 "nbformat_minor": 2
}
