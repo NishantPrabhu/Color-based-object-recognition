{
 "cells": [
  {
   "cell_type": "markdown",
   "metadata": {},
   "source": [
    "## Color quantization variant 2\n",
    "Attempt to generate a unique key based on colors and their percentages in the image"
   ]
  },
  {
   "cell_type": "code",
   "execution_count": 24,
   "metadata": {},
   "outputs": [],
   "source": [
    "import numpy as np\n",
    "import cv2\n",
    "from sklearn.cluster import KMeans, MiniBatchKMeans\n",
    "from glob import glob\n",
    "from matplotlib import pyplot as plt\n",
    "import seaborn as sns\n",
    "from tqdm import tqdm\n",
    "import heapq\n",
    "from ntpath import basename\n",
    "import plotly.graph_objs as go\n",
    "from collections import Counter"
   ]
  },
  {
   "cell_type": "code",
   "execution_count": 125,
   "metadata": {},
   "outputs": [],
   "source": [
    "paths = glob('../data/Biscuits/*.png')"
   ]
  },
  {
   "cell_type": "code",
   "execution_count": 155,
   "metadata": {},
   "outputs": [],
   "source": [
    "def get_image(path):\n",
    "    \n",
    "    img = cv2.imread(path)\n",
    "    img = cv2.cvtColor(img, cv2.COLOR_BGR2RGB)\n",
    "    return img\n",
    "\n",
    "\n",
    "def rgb2hex(c):\n",
    "    \n",
    "    return '#{:02x}{:02x}{:02x}'.format(int(c[0]), int(c[1]), int(c[2]))\n",
    "\n",
    "\n",
    "def extract_colors(img, n_components):\n",
    "    \n",
    "    # Reshape for KMeans\n",
    "    img = img.reshape(img.shape[0]*img.shape[1], -1)\n",
    "    \n",
    "    # KMeans\n",
    "    clf = MiniBatchKMeans(n_clusters=n_components)\n",
    "    clf.fit(img)\n",
    "    \n",
    "    # Get top colors\n",
    "    centers = clf.cluster_centers_\n",
    "    labels = clf.labels_\n",
    "    \n",
    "    return centers, labels\n",
    "\n",
    "\n",
    "def color_histogram(centers, labels, normalize=True):\n",
    "        \n",
    "    counts = Counter(labels)\n",
    "    max_value_id = np.argmax(counts.values())\n",
    "    max_label_locations = np.where(labels == list(counts.keys())[max_value_id])[0]\n",
    "    labels = np.delete(labels, max_label_locations)\n",
    "    centers = np.array(list(centers[:max_value_id]) + list(centers[max_value_id+1:]))\n",
    "    label_ids = np.delete(np.array(list(counts.keys())), max_value_id)\n",
    "    num_labels = np.arange(0, len(label_ids)+1)\n",
    "    (hist, _) = np.histogram(labels, bins=num_labels)\n",
    "\n",
    "    if normalize:\n",
    "        hist = hist / sum(hist)\n",
    "        \n",
    "    return hist, centers, label_ids\n",
    "\n",
    "\n",
    "def show_colors(centers):\n",
    "    \n",
    "    fig = plt.figure()\n",
    "    \n",
    "    for i in range(len(centers)):\n",
    "        c = centers[i]/255.\n",
    "        fig.add_subplot(1, len(centers), i+1)\n",
    "        plt.imshow([[(c[0], c[1], c[2])]])\n",
    "        plt.axis('off')\n",
    "        \n",
    "    plt.tight_layout()\n",
    "    plt.show()\n",
    "    \n",
    "\n",
    "def get_colorbar(hist, centers):\n",
    "    \n",
    "    bar = np.zeros((1, 100, 3), dtype=np.uint8)\n",
    "    startX = 0\n",
    "    \n",
    "    for (percent, color) in zip(hist, centers):\n",
    "        endX = startX + percent*100\n",
    "        cv2.rectangle(bar, (int(startX), 0), (int(endX), 50), color.astype('uint8').tolist(), -1)\n",
    "        startX = endX\n",
    "        \n",
    "    return bar"
   ]
  },
  {
   "cell_type": "code",
   "execution_count": 156,
   "metadata": {},
   "outputs": [
    {
     "data": {
      "text/plain": [
       "<matplotlib.image.AxesImage at 0x7f75f50f0b38>"
      ]
     },
     "execution_count": 156,
     "metadata": {},
     "output_type": "execute_result"
    },
    {
     "data": {
      "image/png": "[encoded data removed]",
      "text/plain": [
       "<Figure size 432x288 with 1 Axes>"
      ]
     },
     "metadata": {
      "needs_background": "light"
     },
     "output_type": "display_data"
    }
   ],
   "source": [
    "img = get_image(paths[1])\n",
    "centers, labels = extract_colors(img, n_components=10)\n",
    "hist, centers, label_ids = color_histogram(centers, labels, normalize=True)\n",
    "bar = get_colorbar(hist, centers)\n",
    "\n",
    "plt.imshow(bar)"
   ]
  },
  {
   "cell_type": "code",
   "execution_count": null,
   "metadata": {},
   "outputs": [],
   "source": []
  }
 ],
 "metadata": {
  "kernelspec": {
   "display_name": "Python 3",
   "language": "python",
   "name": "python3"
  },
  "language_info": {
   "codemirror_mode": {
    "name": "ipython",
    "version": 3
   },
   "file_extension": ".py",
   "mimetype": "text/x-python",
   "name": "python",
   "nbconvert_exporter": "python",
   "pygments_lexer": "ipython3",
   "version": "3.6.9"
  }
 },
 "nbformat": 4,
 "nbformat_minor": 2
}
