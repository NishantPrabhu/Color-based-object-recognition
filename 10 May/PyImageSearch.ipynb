{
 "cells": [
  {
   "cell_type": "code",
   "execution_count": 11,
   "metadata": {},
   "outputs": [],
   "source": [
    "from sklearn.cluster import KMeans\n",
    "from matplotlib import pyplot as plt\n",
    "import cv2\n",
    "import numpy as np\n",
    "from glob import glob\n",
    "from heapq import nlargest"
   ]
  },
  {
   "cell_type": "code",
   "execution_count": 12,
   "metadata": {},
   "outputs": [],
   "source": [
    "paths = glob('../data/Biscuits/*.png')"
   ]
  },
  {
   "cell_type": "code",
   "execution_count": 34,
   "metadata": {},
   "outputs": [],
   "source": [
    "def centroid_histogram(clt):\n",
    "    numLabels = np.arange(0, len(np.unique(clt.labels_))+1)\n",
    "    (hist, _) = np.histogram(clt.labels_, bins=numLabels)\n",
    "    hist = hist.astype('float')\n",
    "    hist /= hist.sum()\n",
    "    return hist\n",
    "\n",
    "\n",
    "def show_colors(centers):\n",
    "    fig = plt.figure()\n",
    "    for i in range(len(centers)):\n",
    "        c = centers[i]/255.\n",
    "        fig.add_subplot(1, len(centers), i+1)\n",
    "        plt.imshow([[(c[0], c[1], c[2])]])\n",
    "        plt.axis('off')\n",
    "        \n",
    "    plt.tight_layout()\n",
    "    plt.show()\n",
    "    \n",
    "    \n",
    "def get_best_color(centers, labels):\n",
    "    \n",
    "    num_labels = np.arange(0, len(np.unique(labels))+1)\n",
    "    (hist, _) = np.histogram(labels, bins=num_labels)\n",
    "    second_max = nlargest(2, hist)[1]\n",
    "    second_max_idx = np.where(hist == second_max)[0][0]\n",
    "    print(\"Best color index: {}\".format(second_max_idx))\n",
    "    \n",
    "    return hist, centers[second_max_idx]"
   ]
  },
  {
   "cell_type": "code",
   "execution_count": 38,
   "metadata": {},
   "outputs": [
    {
     "data": {
      "image/png": "[encoded data removed]",
      "text/plain": [
       "<Figure size 432x288 with 5 Axes>"
      ]
     },
     "metadata": {
      "needs_background": "light"
     },
     "output_type": "display_data"
    },
    {
     "name": "stdout",
     "output_type": "stream",
     "text": [
      "Best color index: 1\n",
      "[213490 240553 111874 238669 424214]\n"
     ]
    }
   ],
   "source": [
    "img = cv2.imread('../data/Biscuits/test_2.png')\n",
    "img = cv2.cvtColor(img, cv2.COLOR_BGR2RGB)\n",
    "img = img.reshape(img.shape[0]*img.shape[1], -1)\n",
    "\n",
    "clt = KMeans(n_clusters=5)\n",
    "clt.fit(img)\n",
    "\n",
    "show_colors(clt.cluster_centers_)\n",
    "\n",
    "hist, bc = get_best_color(clt.cluster_centers_, clt.labels_)\n",
    "\n",
    "print(hist)"
   ]
  },
  {
   "cell_type": "code",
   "execution_count": 35,
   "metadata": {},
   "outputs": [
    {
     "data": {
      "image/png": "[encoded data removed]",
      "text/plain": [
       "<Figure size 432x288 with 5 Axes>"
      ]
     },
     "metadata": {
      "needs_background": "light"
     },
     "output_type": "display_data"
    },
    {
     "name": "stdout",
     "output_type": "stream",
     "text": [
      "Best color index: 2\n"
     ]
    }
   ],
   "source": [
    "img = cv2.imread('../data/Biscuits/test_3.png')\n",
    "img = cv2.cvtColor(img, cv2.COLOR_BGR2RGB)\n",
    "img = img.reshape(img.shape[0]*img.shape[1], -1)\n",
    "\n",
    "clt = KMeans(n_clusters=5)\n",
    "clt.fit(img)\n",
    "\n",
    "show_colors(clt.cluster_centers_)\n",
    "\n",
    "hist, bc = get_best_color(clt.cluster_centers_, clt.labels_)"
   ]
  },
  {
   "cell_type": "code",
   "execution_count": 36,
   "metadata": {},
   "outputs": [
    {
     "data": {
      "image/png": "[encoded data removed]",
      "text/plain": [
       "<Figure size 432x288 with 5 Axes>"
      ]
     },
     "metadata": {
      "needs_background": "light"
     },
     "output_type": "display_data"
    },
    {
     "name": "stdout",
     "output_type": "stream",
     "text": [
      "Best color index: 4\n"
     ]
    }
   ],
   "source": [
    "img = cv2.imread('../data/Biscuits/test_4.png')\n",
    "img = cv2.cvtColor(img, cv2.COLOR_BGR2RGB)\n",
    "img = img.reshape(img.shape[0]*img.shape[1], -1)\n",
    "\n",
    "clt = KMeans(n_clusters=5)\n",
    "clt.fit(img)\n",
    "\n",
    "show_colors(clt.cluster_centers_)\n",
    "\n",
    "hist, bc = get_best_color(clt.cluster_centers_, clt.labels_)"
   ]
  },
  {
   "cell_type": "code",
   "execution_count": null,
   "metadata": {},
   "outputs": [],
   "source": []
  }
 ],
 "metadata": {
  "kernelspec": {
   "display_name": "Python 3",
   "language": "python",
   "name": "python3"
  },
  "language_info": {
   "codemirror_mode": {
    "name": "ipython",
    "version": 3
   },
   "file_extension": ".py",
   "mimetype": "text/x-python",
   "name": "python",
   "nbconvert_exporter": "python",
   "pygments_lexer": "ipython3",
   "version": "3.6.9"
  }
 },
 "nbformat": 4,
 "nbformat_minor": 2
}
