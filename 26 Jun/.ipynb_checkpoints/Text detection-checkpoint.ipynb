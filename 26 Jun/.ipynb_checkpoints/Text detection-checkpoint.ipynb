{
 "cells": [
  {
   "cell_type": "markdown",
   "metadata": {},
   "source": [
    "# Crossentropy loss\n",
    "Ideas get weirder day by day."
   ]
  },
  {
   "cell_type": "code",
   "execution_count": 18,
   "metadata": {},
   "outputs": [],
   "source": [
    "import cv2\n",
    "import pickle\n",
    "import numpy as np \n",
    "import matplotlib.pyplot as plt\n",
    "from sklearn.cluster import MiniBatchKMeans"
   ]
  },
  {
   "cell_type": "code",
   "execution_count": 15,
   "metadata": {},
   "outputs": [],
   "source": [
    "test_path = \"../../data/test_images/test_image_1.jpeg\"\n",
    "path_1 = \"../../data/Biscuits/400081.jpg\"\n",
    "path_2 = \"../../data/Biscuits/400006.jpg\"\n",
    "\n",
    "test_img = cv2.imread(test_path)\n",
    "img_1 = cv2.imread(path_1)\n",
    "img_2 = cv2.imread(path_2)\n",
    "\n",
    "def extract_colors(img):\n",
    "    img = img.reshape(img.shape[0]*img.shape[1], -1)\n",
    "    kmeans = MiniBatchKMeans(n_clusters=10)\n",
    "    kmeans.fit(img)\n",
    "    centers, labels = "
   ]
  },
  {
   "cell_type": "code",
   "execution_count": 16,
   "metadata": {},
   "outputs": [
    {
     "name": "stdout",
     "output_type": "stream",
     "text": [
      "\n"
     ]
    }
   ],
   "source": [
    "text = image_to_string(img)\n",
    "print(text)"
   ]
  },
  {
   "cell_type": "code",
   "execution_count": null,
   "metadata": {},
   "outputs": [],
   "source": []
  }
 ],
 "metadata": {
  "kernelspec": {
   "display_name": "Python 3",
   "language": "python",
   "name": "python3"
  },
  "language_info": {
   "codemirror_mode": {
    "name": "ipython",
    "version": 3
   },
   "file_extension": ".py",
   "mimetype": "text/x-python",
   "name": "python",
   "nbconvert_exporter": "python",
   "pygments_lexer": "ipython3",
   "version": "3.6.9"
  }
 },
 "nbformat": 4,
 "nbformat_minor": 2
}
