{
 "cells": [
  {
   "cell_type": "markdown",
   "metadata": {},
   "source": [
    "# Color search algorithm for image matching"
   ]
  },
  {
   "cell_type": "code",
   "execution_count": 12,
   "metadata": {},
   "outputs": [],
   "source": [
    "import os\n",
    "import cv2\n",
    "import pickle\n",
    "import numpy as np\n",
    "from glob import glob\n",
    "from ntpath import basename\n",
    "from sklearn.cluster import MiniBatchKMeans\n",
    "from tqdm.notebook import tqdm"
   ]
  },
  {
   "cell_type": "code",
   "execution_count": 2,
   "metadata": {},
   "outputs": [],
   "source": [
    "# Load saved files\n",
    "\n",
    "with open('../../saved_data/13 Jun/file_color_map.pkl', 'rb') as f:\n",
    "    file_color_map = pickle.load(f)\n",
    "    \n",
    "with open('../../saved_data/13 Jun/kmeans_clt.pkl', 'rb') as f:\n",
    "    kmeans_clt = pickle.load(f)"
   ]
  },
  {
   "cell_type": "code",
   "execution_count": 4,
   "metadata": {
    "scrolled": true
   },
   "outputs": [
    {
     "data": {
      "application/vnd.jupyter.widget-view+json": {
       "model_id": "ae67cb7fe5cf47d0b77dc5ef770b4c10",
       "version_major": 2,
       "version_minor": 0
      },
      "text/plain": [
       "HBox(children=(IntProgress(value=1, bar_style='info', max=1), HTML(value='')))"
      ]
     },
     "metadata": {},
     "output_type": "display_data"
    },
    {
     "name": "stdout",
     "output_type": "stream",
     "text": [
      "\n",
      "Accuracy: 1.97\n"
     ]
    }
   ],
   "source": [
    "# Test algorithm for images\n",
    "\n",
    "def jaccard_score(list_1, list_2):\n",
    "    intersection = set(list_1).intersection(list_2)\n",
    "    union = set(list_1).union(list_2)\n",
    "    return len(intersection)/len(union)\n",
    "\n",
    "paths = list(file_color_map.keys())\n",
    "correct = 0\n",
    "\n",
    "for i, path in tqdm(enumerate(paths)):\n",
    "    # Read and prepare the image\n",
    "    img = cv2.imread(path)\n",
    "    img = cv2.cvtColor(img, cv2.COLOR_BGR2RGB)\n",
    "    img = img.reshape(img.shape[0]*img.shape[1], -1)\n",
    "    # Fit mini batch kmeans and generate colors\n",
    "    clt = MiniBatchKMeans(n_clusters=5)\n",
    "    clt.fit(img)\n",
    "    # Use kmeans_clt to predict color classes\n",
    "    labels = kmeans_clt.predict(clt.cluster_centers_)\n",
    "    # Find the image with maximum intersection\n",
    "    max_index = np.argmax([jaccard_score(v, labels) for v in file_color_map.values()])\n",
    "    if max_index == i:\n",
    "        correct += 1\n",
    "        \n",
    "print(\"Accuracy: {:.2f}\".format(correct*100./len(paths)))"
   ]
  },
  {
   "cell_type": "code",
   "execution_count": 14,
   "metadata": {},
   "outputs": [
    {
     "name": "stdout",
     "output_type": "stream",
     "text": [
      "Input vector: [3 2 0 1 2]\n",
      "Matched vector: [1, 0, 2, 3, 2] (../../data/Snacks/700191.jpg)\n",
      "Target vector: [1, 3, 2, 2, 0] (../../data/IceCreams/120464.jpg)\n",
      "Calculated Jaccard score: 1.0\n",
      "\n",
      "------------------------------------------\n",
      "\n",
      "Input vector: [1 3 3 4 2]\n",
      "Matched vector: [1, 2, 1, 3, 4] (../../data/Snacks/700245.jpg)\n",
      "Target vector: [3, 1, 4, 3, 2] (../../data/HairCare/300208.jpg)\n",
      "Calculated Jaccard score: 1.0\n",
      "\n",
      "------------------------------------------\n",
      "\n",
      "Input vector: [1 4 2 1 3]\n",
      "Matched vector: [1, 2, 1, 3, 4] (../../data/Snacks/700245.jpg)\n",
      "Target vector: [1, 2, 3, 4, 1] (../../data/HairCare/300290.jpg)\n",
      "Calculated Jaccard score: 1.0\n",
      "\n",
      "------------------------------------------\n",
      "\n",
      "Input vector: [1 4 4 3 2]\n",
      "Matched vector: [1, 2, 1, 3, 4] (../../data/Snacks/700245.jpg)\n",
      "Target vector: [4, 1, 4, 3, 2] (../../data/Soaps/200269.jpg)\n",
      "Calculated Jaccard score: 1.0\n",
      "\n",
      "------------------------------------------\n",
      "\n",
      "Input vector: [1 4 2 3 1]\n",
      "Matched vector: [1, 2, 1, 3, 4] (../../data/Snacks/700245.jpg)\n",
      "Target vector: [1, 2, 3, 1, 4] (../../data/Biscuits/400430.jpg)\n",
      "Calculated Jaccard score: 1.0\n",
      "\n",
      "------------------------------------------\n",
      "\n"
     ]
    }
   ],
   "source": [
    "def list_join(l):\n",
    "    return ''.join([str(k) for k in l])\n",
    "\n",
    "color_vectors = list(file_color_map.values())\n",
    "color_file_map = {list_join(v): k for k, v in file_color_map.items()}\n",
    "\n",
    "def diagnose(paths, num_samples):\n",
    "    idx = np.random.choice(np.arange(0, len(paths)), size=num_samples)\n",
    "    for i in idx:\n",
    "        img = cv2.imread(paths[i])\n",
    "        img = cv2.cvtColor(img, cv2.COLOR_BGR2RGB)\n",
    "        img = img.reshape(img.shape[0]*img.shape[1], -1)\n",
    "        clt = MiniBatchKMeans(n_clusters=5)\n",
    "        clt.fit(img)\n",
    "        \n",
    "        labels = kmeans_clt.predict(clt.cluster_centers_)\n",
    "        max_index = np.argmax([jaccard_score(v, labels) for v in file_color_map.values()])\n",
    "        \n",
    "        print(\"Input vector: {}\".format(labels))\n",
    "        print(\"Matched vector: {} ({})\".format(\n",
    "            color_vectors[max_index], color_file_map[list_join(color_vectors[max_index])]\n",
    "        ))\n",
    "        print(\"Target vector: {} ({})\".format(\n",
    "            color_vectors[i], color_file_map[list_join(color_vectors[i])]\n",
    "        ))\n",
    "        print(\"Calculated Jaccard score: {}\".format(jaccard_score(labels, color_vectors[max_index])))\n",
    "        print(\"\\n------------------------------------------\\n\")\n",
    "        \n",
    "        \n",
    "# Diagnose\n",
    "diagnose(paths, num_samples=5)"
   ]
  },
  {
   "cell_type": "code",
   "execution_count": null,
   "metadata": {},
   "outputs": [],
   "source": []
  }
 ],
 "metadata": {
  "kernelspec": {
   "display_name": "Python 3",
   "language": "python",
   "name": "python3"
  },
  "language_info": {
   "codemirror_mode": {
    "name": "ipython",
    "version": 3
   },
   "file_extension": ".py",
   "mimetype": "text/x-python",
   "name": "python",
   "nbconvert_exporter": "python",
   "pygments_lexer": "ipython3",
   "version": "3.6.9"
  }
 },
 "nbformat": 4,
 "nbformat_minor": 2
}
