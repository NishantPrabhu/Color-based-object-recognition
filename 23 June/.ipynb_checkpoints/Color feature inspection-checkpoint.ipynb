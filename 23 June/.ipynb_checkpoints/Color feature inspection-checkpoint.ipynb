{
 "cells": [
  {
   "cell_type": "markdown",
   "metadata": {},
   "source": [
    "# Color feature inspection\n",
    "Let's see if the right match is in top 10 or something."
   ]
  },
  {
   "cell_type": "code",
   "execution_count": 1,
   "metadata": {},
   "outputs": [],
   "source": [
    "import cv2\n",
    "import numpy as np\n",
    "import pickle"
   ]
  },
  {
   "cell_type": "code",
   "execution_count": 4,
   "metadata": {},
   "outputs": [],
   "source": [
    "# File color map\n",
    "with open('../../saved_data/20 Jun/file_color_map.pkl', 'rb') as f:\n",
    "    file_color_map = pickle.load(f)\n",
    "    \n",
    "with open('../../saved_data/20 Jun/kmeans_clt.pkl', 'rb') as f:\n",
    "    kmeans_clt = pickle.load(f) "
   ]
  },
  {
   "cell_type": "code",
   "execution_count": null,
   "metadata": {},
   "outputs": [],
   "source": [
    "class ProductFinder(object):\n",
    "    \n",
    "    def __init__(self, n_colors, kmeans_clt, file_color_map, top_k=3):\n",
    "        self.n_colors = n_colors\n",
    "        self.kmeans_clt = kmeans_clt\n",
    "        self.file_color_map = file_color_map\n",
    "        self.top_k = top_k\n",
    "        \n",
    "    def jaccard_score(self, list_1, list_2):\n",
    "        union = set(list_1).union(list_2)\n",
    "        intr = set(list_1).intersection(list_2)\n",
    "        return len(intr)/len(union)\n",
    "        \n",
    "    def find_candidates(self, img):\n",
    "        img = img.reshape(img.shape[0]*img.shape[1], -1)\n",
    "        mb_kmeans = MiniBatchKMeans(n_clusters=self.n_colors)\n",
    "        mb_kmeans.fit(img)\n",
    "        labels = self.kmeans_clt.predict(mb_kmeans.cluster_centers_)\n",
    "        js = [self.jaccard_score(labels, v) for v in self.file_color_map.values()]\n",
    "        N = int(0.01*len(js))\n",
    "        candidates = sorted(range(len(js)), key=lambda i: js[i])[-N:]  \n",
    "        candidate_paths = np.array(list(self.file_color_map.keys()))[candidates].tolist()\n",
    "        return candidates, candidate_paths"
   ]
  }
 ],
 "metadata": {
  "kernelspec": {
   "display_name": "Python 3",
   "language": "python",
   "name": "python3"
  },
  "language_info": {
   "codemirror_mode": {
    "name": "ipython",
    "version": 3
   },
   "file_extension": ".py",
   "mimetype": "text/x-python",
   "name": "python",
   "nbconvert_exporter": "python",
   "pygments_lexer": "ipython3",
   "version": "3.6.9"
  }
 },
 "nbformat": 4,
 "nbformat_minor": 2
}
