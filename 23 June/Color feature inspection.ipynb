{
 "cells": [
  {
   "cell_type": "markdown",
   "metadata": {},
   "source": [
    "# Color feature inspection\n",
    "Let's see if the right match is in top 10 or something."
   ]
  },
  {
   "cell_type": "code",
   "execution_count": 18,
   "metadata": {},
   "outputs": [],
   "source": [
    "import os\n",
    "import cv2\n",
    "import pickle\n",
    "import numpy as np\n",
    "from glob import glob\n",
    "from sklearn.cluster import MiniBatchKMeans, KMeans\n",
    "from tqdm.notebook import tqdm\n",
    "from IPython.display import clear_output"
   ]
  },
  {
   "cell_type": "code",
   "execution_count": 4,
   "metadata": {},
   "outputs": [],
   "source": [
    "# File color map\n",
    "with open('../../saved_data/20 Jun/file_color_map.pkl', 'rb') as f:\n",
    "    file_color_map = pickle.load(f)\n",
    "    \n",
    "with open('../../saved_data/20 Jun/kmeans_clt.pkl', 'rb') as f:\n",
    "    kmeans_clt = pickle.load(f) "
   ]
  },
  {
   "cell_type": "code",
   "execution_count": 19,
   "metadata": {},
   "outputs": [],
   "source": [
    "class ProductFinder(object):\n",
    "    \n",
    "    def __init__(self, n_colors, kmeans_clt, file_color_map, top_k=3):\n",
    "        self.n_colors = n_colors\n",
    "        self.kmeans_clt = kmeans_clt\n",
    "        self.file_color_map = file_color_map\n",
    "        self.top_k = top_k\n",
    "        \n",
    "    def jaccard_score(self, list_1, list_2):\n",
    "        union = set(list_1).union(list_2)\n",
    "        intr = set(list_1).intersection(list_2)\n",
    "        return len(intr)/len(union)\n",
    "        \n",
    "    def find_candidates(self, img):\n",
    "        img = img.reshape(img.shape[0]*img.shape[1], -1)\n",
    "        mb_kmeans = MiniBatchKMeans(n_clusters=self.n_colors)\n",
    "        mb_kmeans.fit(img)\n",
    "        labels = self.kmeans_clt.predict(mb_kmeans.cluster_centers_)\n",
    "        js = [self.jaccard_score(labels, v) for v in self.file_color_map.values()]\n",
    "        N = int(0.01*len(js))\n",
    "        candidates = sorted(range(len(js)), key=lambda i: js[i])[-N:]  \n",
    "        candidate_paths = np.array(list(self.file_color_map.keys()))[candidates].tolist()\n",
    "        return candidates, candidate_paths\n",
    "    \n",
    "    def check_presence(self, root_dir):\n",
    "        found = 0\n",
    "        num_files = 0\n",
    "        folders = os.listdir(root_dir)\n",
    "        folders.remove('test_images')\n",
    "        for fol in folders:\n",
    "            for path in tqdm(glob(root_dir+'/'+fol+'/*.jpg')):\n",
    "                num_files += 1\n",
    "                img = cv2.imread(path)\n",
    "                img = cv2.cvtColor(img, cv2.COLOR_BGR2RGB)\n",
    "                cnd, cnd_paths = self.find_candidates(img)\n",
    "                if path in cnd_paths:\n",
    "                    found += 1\n",
    "        \n",
    "        clear_output()\n",
    "        found_percent = 100.*found/num_files\n",
    "        print(\"Found percent: {:.2f}\".format(found_percent))"
   ]
  },
  {
   "cell_type": "code",
   "execution_count": 20,
   "metadata": {},
   "outputs": [
    {
     "name": "stdout",
     "output_type": "stream",
     "text": [
      "Found percent: 31.25\n"
     ]
    }
   ],
   "source": [
    "pf = ProductFinder(n_colors=10, kmeans_clt=kmeans_clt, file_color_map=file_color_map)\n",
    "pf.check_presence('../../data')"
   ]
  },
  {
   "cell_type": "code",
   "execution_count": null,
   "metadata": {},
   "outputs": [],
   "source": []
  }
 ],
 "metadata": {
  "kernelspec": {
   "display_name": "Python 3",
   "language": "python",
   "name": "python3"
  },
  "language_info": {
   "codemirror_mode": {
    "name": "ipython",
    "version": 3
   },
   "file_extension": ".py",
   "mimetype": "text/x-python",
   "name": "python",
   "nbconvert_exporter": "python",
   "pygments_lexer": "ipython3",
   "version": "3.6.9"
  }
 },
 "nbformat": 4,
 "nbformat_minor": 2
}
