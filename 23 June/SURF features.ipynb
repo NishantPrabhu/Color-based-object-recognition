{
 "cells": [
  {
   "cell_type": "markdown",
   "metadata": {},
   "source": [
    "# SURF Features\n",
    "They're faster than SIFT, but let's see if they are any good."
   ]
  },
  {
   "cell_type": "code",
   "execution_count": 43,
   "metadata": {},
   "outputs": [],
   "source": [
    "import os\n",
    "import cv2 \n",
    "import numpy as np\n",
    "from glob import glob\n",
    "from skimage.transform import resize\n",
    "from scipy.spatial.distance import euclidean"
   ]
  },
  {
   "cell_type": "code",
   "execution_count": 35,
   "metadata": {},
   "outputs": [],
   "source": [
    "# Image paths\n",
    "test_path = '../../data/test_images/test_image_1.jpeg'\n",
    "path_1 = '../../data/Biscuits/400018.jpg'\n",
    "path_2 = '../../data/DentalCare/100004.jpg'\n",
    "\n",
    "test_img = cv2.imread(test_path)\n",
    "img_1 = cv2.imread(path_1)\n",
    "img_2 = cv2.imread(path_2)\n",
    "\n",
    "def preprocess(img):\n",
    "    img = cv2.resize(img, (500, 500))\n",
    "    img = cv2.cvtColor(img, cv2.COLOR_BGR2GRAY)\n",
    "    return img\n",
    "\n",
    "test_img = preprocess(test_img)\n",
    "img_1 = preprocess(img_1)\n",
    "img_2 = preprocess(img_2)"
   ]
  },
  {
   "cell_type": "code",
   "execution_count": 36,
   "metadata": {},
   "outputs": [],
   "source": [
    "# SURF features \n",
    "surf = cv2.xfeatures2d.SURF_create()\n",
    "\n",
    "_, desc_test = surf.detectAndCompute(test_img, None)\n",
    "_, desc_1 = surf.detectAndCompute(img_1, None)\n",
    "_, desc_2 = surf.detectAndCompute(img_2, None)"
   ]
  },
  {
   "cell_type": "code",
   "execution_count": 40,
   "metadata": {},
   "outputs": [],
   "source": [
    "min_desc = min([desc_test.shape[0], desc_1.shape[0], desc_2.shape[0]])\n",
    "desc_test = desc_test[:min_desc, :]\n",
    "desc_1 = desc_1[:min_desc, :]\n",
    "desc_2 = desc_2[:min_desc, :]"
   ]
  },
  {
   "cell_type": "code",
   "execution_count": 45,
   "metadata": {},
   "outputs": [
    {
     "data": {
      "text/plain": [
       "28.915459"
      ]
     },
     "execution_count": 45,
     "metadata": {},
     "output_type": "execute_result"
    }
   ],
   "source": [
    "np.linalg.norm(desc_test - desc_1)"
   ]
  },
  {
   "cell_type": "code",
   "execution_count": 46,
   "metadata": {},
   "outputs": [
    {
     "data": {
      "text/plain": [
       "29.846657"
      ]
     },
     "execution_count": 46,
     "metadata": {},
     "output_type": "execute_result"
    }
   ],
   "source": [
    "np.linalg.norm(desc_test - desc_2)"
   ]
  },
  {
   "cell_type": "code",
   "execution_count": null,
   "metadata": {},
   "outputs": [],
   "source": []
  }
 ],
 "metadata": {
  "kernelspec": {
   "display_name": "Python 3",
   "language": "python",
   "name": "python3"
  },
  "language_info": {
   "codemirror_mode": {
    "name": "ipython",
    "version": 3
   },
   "file_extension": ".py",
   "mimetype": "text/x-python",
   "name": "python",
   "nbconvert_exporter": "python",
   "pygments_lexer": "ipython3",
   "version": "3.6.9"
  }
 },
 "nbformat": 4,
 "nbformat_minor": 2
}
